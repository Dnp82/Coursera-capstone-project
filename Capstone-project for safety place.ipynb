{
    "cells": [
        {
            "cell_type": "markdown",
            "metadata": {},
            "source": "<h1>Business problem</h1>"
        },
        {
            "cell_type": "markdown",
            "metadata": {},
            "source": "<h3>In order to use the resources of Foursquare, I propose to simulate a search for the best situation if I want to visit the capital of a country in the world.\nPerhaps making an App or a Website to choose a city with the associated with a Foursquare data to make a choice to find the best location. Evidently some actions will be add as the date and a budget for a journey.</h3>"
        },
        {
            "cell_type": "code",
            "execution_count": null,
            "metadata": {},
            "outputs": [],
            "source": ""
        }
    ],
    "metadata": {
        "kernelspec": {
            "display_name": "Python 3.6",
            "language": "python",
            "name": "python3"
        },
        "language_info": {
            "codemirror_mode": {
                "name": "ipython",
                "version": 3
            },
            "file_extension": ".py",
            "mimetype": "text/x-python",
            "name": "python",
            "nbconvert_exporter": "python",
            "pygments_lexer": "ipython3",
            "version": "3.6.9"
        }
    },
    "nbformat": 4,
    "nbformat_minor": 1
}